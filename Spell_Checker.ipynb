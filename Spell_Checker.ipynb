{
  "nbformat": 4,
  "nbformat_minor": 0,
  "metadata": {
    "colab": {
      "name": "Spell_Checker.ipynb",
      "provenance": [],
      "collapsed_sections": [],
      "authorship_tag": "ABX9TyO7Yvif5v7QJIWdWEeQSTHF",
      "include_colab_link": true
    },
    "kernelspec": {
      "name": "python3",
      "display_name": "Python 3"
    }
  },
  "cells": [
    {
      "cell_type": "markdown",
      "metadata": {
        "id": "view-in-github",
        "colab_type": "text"
      },
      "source": [
        "<a href=\"https://colab.research.google.com/github/SuphanutN/geo_spellchecker/blob/master/Spell_Checker.ipynb\" target=\"_parent\"><img src=\"https://colab.research.google.com/assets/colab-badge.svg\" alt=\"Open In Colab\"/></a>"
      ]
    },
    {
      "cell_type": "code",
      "metadata": {
        "id": "rH5qgc4nV_4t",
        "colab_type": "code",
        "colab": {
          "base_uri": "https://localhost:8080/",
          "height": 102
        },
        "outputId": "4c99f86d-15b5-4b9f-fb40-9b028e151230"
      },
      "source": [
        "pip install pandas"
      ],
      "execution_count": 4,
      "outputs": [
        {
          "output_type": "stream",
          "text": [
            "Requirement already satisfied: pandas in /usr/local/lib/python3.6/dist-packages (1.0.5)\n",
            "Requirement already satisfied: python-dateutil>=2.6.1 in /usr/local/lib/python3.6/dist-packages (from pandas) (2.8.1)\n",
            "Requirement already satisfied: numpy>=1.13.3 in /usr/local/lib/python3.6/dist-packages (from pandas) (1.18.5)\n",
            "Requirement already satisfied: pytz>=2017.2 in /usr/local/lib/python3.6/dist-packages (from pandas) (2018.9)\n",
            "Requirement already satisfied: six>=1.5 in /usr/local/lib/python3.6/dist-packages (from python-dateutil>=2.6.1->pandas) (1.12.0)\n"
          ],
          "name": "stdout"
        }
      ]
    },
    {
      "cell_type": "code",
      "metadata": {
        "id": "n7julm_eWOB0",
        "colab_type": "code",
        "colab": {
          "base_uri": "https://localhost:8080/",
          "height": 255
        },
        "outputId": "fe3140c2-94b3-447e-ec25-d19931f330cc"
      },
      "source": [
        "pip install PyDrive"
      ],
      "execution_count": 5,
      "outputs": [
        {
          "output_type": "stream",
          "text": [
            "Requirement already satisfied: PyDrive in /usr/local/lib/python3.6/dist-packages (1.3.1)\n",
            "Requirement already satisfied: PyYAML>=3.0 in /usr/local/lib/python3.6/dist-packages (from PyDrive) (3.13)\n",
            "Requirement already satisfied: google-api-python-client>=1.2 in /usr/local/lib/python3.6/dist-packages (from PyDrive) (1.7.12)\n",
            "Requirement already satisfied: oauth2client>=4.0.0 in /usr/local/lib/python3.6/dist-packages (from PyDrive) (4.1.3)\n",
            "Requirement already satisfied: uritemplate<4dev,>=3.0.0 in /usr/local/lib/python3.6/dist-packages (from google-api-python-client>=1.2->PyDrive) (3.0.1)\n",
            "Requirement already satisfied: google-auth-httplib2>=0.0.3 in /usr/local/lib/python3.6/dist-packages (from google-api-python-client>=1.2->PyDrive) (0.0.4)\n",
            "Requirement already satisfied: six<2dev,>=1.6.1 in /usr/local/lib/python3.6/dist-packages (from google-api-python-client>=1.2->PyDrive) (1.12.0)\n",
            "Requirement already satisfied: google-auth>=1.4.1 in /usr/local/lib/python3.6/dist-packages (from google-api-python-client>=1.2->PyDrive) (1.17.2)\n",
            "Requirement already satisfied: httplib2<1dev,>=0.17.0 in /usr/local/lib/python3.6/dist-packages (from google-api-python-client>=1.2->PyDrive) (0.17.4)\n",
            "Requirement already satisfied: pyasn1-modules>=0.0.5 in /usr/local/lib/python3.6/dist-packages (from oauth2client>=4.0.0->PyDrive) (0.2.8)\n",
            "Requirement already satisfied: rsa>=3.1.4 in /usr/local/lib/python3.6/dist-packages (from oauth2client>=4.0.0->PyDrive) (4.6)\n",
            "Requirement already satisfied: pyasn1>=0.1.7 in /usr/local/lib/python3.6/dist-packages (from oauth2client>=4.0.0->PyDrive) (0.4.8)\n",
            "Requirement already satisfied: cachetools<5.0,>=2.0.0 in /usr/local/lib/python3.6/dist-packages (from google-auth>=1.4.1->google-api-python-client>=1.2->PyDrive) (4.1.1)\n",
            "Requirement already satisfied: setuptools>=40.3.0 in /usr/local/lib/python3.6/dist-packages (from google-auth>=1.4.1->google-api-python-client>=1.2->PyDrive) (49.1.0)\n"
          ],
          "name": "stdout"
        }
      ]
    },
    {
      "cell_type": "code",
      "metadata": {
        "id": "t6Q4t1DdZnsP",
        "colab_type": "code",
        "colab": {
          "base_uri": "https://localhost:8080/",
          "height": 272
        },
        "outputId": "4e278759-1cc6-4b65-8ca6-ea66b200e938"
      },
      "source": [
        "!pip install pythainlp"
      ],
      "execution_count": 25,
      "outputs": [
        {
          "output_type": "stream",
          "text": [
            "Collecting pythainlp\n",
            "\u001b[?25l  Downloading https://files.pythonhosted.org/packages/1f/b1/3d8d1ff175fce699344bf23bc1cccd09d42d440f3ebf252cef5ab364d030/pythainlp-2.2.2-py3-none-any.whl (13.1MB)\n",
            "\u001b[K     |████████████████████████████████| 13.1MB 313kB/s \n",
            "\u001b[?25hCollecting tinydb>=3.0\n",
            "  Downloading https://files.pythonhosted.org/packages/b6/f6/b3e112addc8eb4a097f158124ce8b206767361a381f80c5f0c506d855e4a/tinydb-4.1.1-py3-none-any.whl\n",
            "Requirement already satisfied: requests>=2.22.0 in /usr/local/lib/python3.6/dist-packages (from pythainlp) (2.23.0)\n",
            "Collecting python-crfsuite>=0.9.6\n",
            "\u001b[?25l  Downloading https://files.pythonhosted.org/packages/95/99/869dde6dbf3e0d07a013c8eebfb0a3d30776334e0097f8432b631a9a3a19/python_crfsuite-0.9.7-cp36-cp36m-manylinux1_x86_64.whl (743kB)\n",
            "\u001b[K     |████████████████████████████████| 747kB 40.3MB/s \n",
            "\u001b[?25hRequirement already satisfied: urllib3!=1.25.0,!=1.25.1,<1.26,>=1.21.1 in /usr/local/lib/python3.6/dist-packages (from requests>=2.22.0->pythainlp) (1.24.3)\n",
            "Requirement already satisfied: certifi>=2017.4.17 in /usr/local/lib/python3.6/dist-packages (from requests>=2.22.0->pythainlp) (2020.6.20)\n",
            "Requirement already satisfied: idna<3,>=2.5 in /usr/local/lib/python3.6/dist-packages (from requests>=2.22.0->pythainlp) (2.10)\n",
            "Requirement already satisfied: chardet<4,>=3.0.2 in /usr/local/lib/python3.6/dist-packages (from requests>=2.22.0->pythainlp) (3.0.4)\n",
            "Installing collected packages: tinydb, python-crfsuite, pythainlp\n",
            "Successfully installed pythainlp-2.2.2 python-crfsuite-0.9.7 tinydb-4.1.1\n"
          ],
          "name": "stdout"
        }
      ]
    },
    {
      "cell_type": "code",
      "metadata": {
        "id": "8xCjarfAWD8B",
        "colab_type": "code",
        "colab": {}
      },
      "source": [
        "import pandas as pd\n",
        "\n",
        "import pythainlp\n",
        "\n",
        "from pythainlp.corpus.common import thai_words\n",
        "from pythainlp.tokenize import word_tokenize, DEFAULT_WORD_DICT_TRIE\n",
        "from pythainlp.util import trie\n",
        "\n",
        "from pythainlp import spell\n",
        "from pythainlp.spell import NorvigSpellChecker\n",
        "\n",
        "from pydrive.auth import GoogleAuth\n",
        "from pydrive.drive import GoogleDrive\n",
        "from google.colab import auth\n",
        "from oauth2client.client import GoogleCredentials"
      ],
      "execution_count": 76,
      "outputs": []
    },
    {
      "cell_type": "code",
      "metadata": {
        "id": "kdI6miRbWFTA",
        "colab_type": "code",
        "colab": {}
      },
      "source": [
        "auth.authenticate_user()\n",
        "gauth = GoogleAuth()\n",
        "gauth.credentials = GoogleCredentials.get_application_default()\n",
        "drive = GoogleDrive(gauth)"
      ],
      "execution_count": 55,
      "outputs": []
    },
    {
      "cell_type": "code",
      "metadata": {
        "id": "WWLrTvObWeKm",
        "colab_type": "code",
        "colab": {}
      },
      "source": [
        "downloaded = drive.CreateFile({'id':\"1rW9WWcYz0025dLHGFsh70K5QJ0SwsTB4\"}) \n",
        "downloaded.GetContentFile('geocode.csv')\n",
        "downloaded2 = drive.CreateFile({'id':\"1d5NDfuaBlCAyEzMWhcvpjMSmIpr2Sz8y\"}) \n",
        "downloaded2.GetContentFile('longdomap-poi-contributed-2020070921.csv')"
      ],
      "execution_count": 56,
      "outputs": []
    },
    {
      "cell_type": "code",
      "metadata": {
        "id": "rBwG6orrW1N9",
        "colab_type": "code",
        "colab": {}
      },
      "source": [
        "geo_file = pd.read_csv('geocode.csv')\n",
        "map_file = pd.read_csv('longdomap-poi-contributed-2020070921.csv')"
      ],
      "execution_count": 57,
      "outputs": []
    },
    {
      "cell_type": "code",
      "metadata": {
        "id": "E4bCe_vYW8oK",
        "colab_type": "code",
        "colab": {
          "base_uri": "https://localhost:8080/",
          "height": 204
        },
        "outputId": "249a3db8-f3e2-4117-b6b7-22c1da86fd6c"
      },
      "source": [
        "geo_file.head()"
      ],
      "execution_count": 12,
      "outputs": [
        {
          "output_type": "execute_result",
          "data": {
            "text/html": [
              "<div>\n",
              "<style scoped>\n",
              "    .dataframe tbody tr th:only-of-type {\n",
              "        vertical-align: middle;\n",
              "    }\n",
              "\n",
              "    .dataframe tbody tr th {\n",
              "        vertical-align: top;\n",
              "    }\n",
              "\n",
              "    .dataframe thead th {\n",
              "        text-align: right;\n",
              "    }\n",
              "</style>\n",
              "<table border=\"1\" class=\"dataframe\">\n",
              "  <thead>\n",
              "    <tr style=\"text-align: right;\">\n",
              "      <th></th>\n",
              "      <th>ProvinceCode</th>\n",
              "      <th>ProvinceTH</th>\n",
              "      <th>ProvinceEN</th>\n",
              "      <th>AmporCode</th>\n",
              "      <th>AmporTH</th>\n",
              "      <th>AmporEN</th>\n",
              "      <th>TumbolCode</th>\n",
              "      <th>TumbolTH</th>\n",
              "      <th>TumbolEN</th>\n",
              "    </tr>\n",
              "  </thead>\n",
              "  <tbody>\n",
              "    <tr>\n",
              "      <th>0</th>\n",
              "      <td>81</td>\n",
              "      <td>กระบี่</td>\n",
              "      <td>Krabi</td>\n",
              "      <td>8103</td>\n",
              "      <td>เกาะลันตา</td>\n",
              "      <td>Ko Lanta</td>\n",
              "      <td>810303</td>\n",
              "      <td>เกาะกลาง</td>\n",
              "      <td>Ko Klang</td>\n",
              "    </tr>\n",
              "    <tr>\n",
              "      <th>1</th>\n",
              "      <td>81</td>\n",
              "      <td>กระบี่</td>\n",
              "      <td>Krabi</td>\n",
              "      <td>8103</td>\n",
              "      <td>เกาะลันตา</td>\n",
              "      <td>Ko Lanta</td>\n",
              "      <td>810302</td>\n",
              "      <td>เกาะลันตาน้อย</td>\n",
              "      <td>Ko Lanta Noi</td>\n",
              "    </tr>\n",
              "    <tr>\n",
              "      <th>2</th>\n",
              "      <td>81</td>\n",
              "      <td>กระบี่</td>\n",
              "      <td>Krabi</td>\n",
              "      <td>8103</td>\n",
              "      <td>เกาะลันตา</td>\n",
              "      <td>Ko Lanta</td>\n",
              "      <td>810301</td>\n",
              "      <td>เกาะลันตาใหญ่</td>\n",
              "      <td>Ko Lanta Yai</td>\n",
              "    </tr>\n",
              "    <tr>\n",
              "      <th>3</th>\n",
              "      <td>81</td>\n",
              "      <td>กระบี่</td>\n",
              "      <td>Krabi</td>\n",
              "      <td>8103</td>\n",
              "      <td>เกาะลันตา</td>\n",
              "      <td>Ko Lanta</td>\n",
              "      <td>810304</td>\n",
              "      <td>คลองยาง</td>\n",
              "      <td>Khlong Yang</td>\n",
              "    </tr>\n",
              "    <tr>\n",
              "      <th>4</th>\n",
              "      <td>81</td>\n",
              "      <td>กระบี่</td>\n",
              "      <td>Krabi</td>\n",
              "      <td>8103</td>\n",
              "      <td>เกาะลันตา</td>\n",
              "      <td>Ko Lanta</td>\n",
              "      <td>810305</td>\n",
              "      <td>ศาลาด่าน</td>\n",
              "      <td>Sala Dan</td>\n",
              "    </tr>\n",
              "  </tbody>\n",
              "</table>\n",
              "</div>"
            ],
            "text/plain": [
              "   ProvinceCode ProvinceTH ProvinceEN  ...  TumbolCode       TumbolTH      TumbolEN\n",
              "0            81     กระบี่      Krabi  ...      810303       เกาะกลาง      Ko Klang\n",
              "1            81     กระบี่      Krabi  ...      810302  เกาะลันตาน้อย  Ko Lanta Noi\n",
              "2            81     กระบี่      Krabi  ...      810301  เกาะลันตาใหญ่  Ko Lanta Yai\n",
              "3            81     กระบี่      Krabi  ...      810304        คลองยาง   Khlong Yang\n",
              "4            81     กระบี่      Krabi  ...      810305       ศาลาด่าน      Sala Dan\n",
              "\n",
              "[5 rows x 9 columns]"
            ]
          },
          "metadata": {
            "tags": []
          },
          "execution_count": 12
        }
      ]
    },
    {
      "cell_type": "code",
      "metadata": {
        "id": "0e5HVI5QfVKM",
        "colab_type": "code",
        "colab": {
          "base_uri": "https://localhost:8080/",
          "height": 289
        },
        "outputId": "74a46f94-6a6d-42f7-ec7f-cc21dfc554aa"
      },
      "source": [
        "map_file.head()"
      ],
      "execution_count": 58,
      "outputs": [
        {
          "output_type": "execute_result",
          "data": {
            "text/html": [
              "<div>\n",
              "<style scoped>\n",
              "    .dataframe tbody tr th:only-of-type {\n",
              "        vertical-align: middle;\n",
              "    }\n",
              "\n",
              "    .dataframe tbody tr th {\n",
              "        vertical-align: top;\n",
              "    }\n",
              "\n",
              "    .dataframe thead th {\n",
              "        text-align: right;\n",
              "    }\n",
              "</style>\n",
              "<table border=\"1\" class=\"dataframe\">\n",
              "  <thead>\n",
              "    <tr style=\"text-align: right;\">\n",
              "      <th></th>\n",
              "      <th>id</th>\n",
              "      <th>name_th</th>\n",
              "      <th>name_en</th>\n",
              "      <th>address_th</th>\n",
              "      <th>address_en</th>\n",
              "      <th>latitude</th>\n",
              "      <th>longitude</th>\n",
              "      <th>telephone</th>\n",
              "      <th>website</th>\n",
              "      <th>lastupdate</th>\n",
              "      <th>poi_type</th>\n",
              "      <th>username</th>\n",
              "    </tr>\n",
              "  </thead>\n",
              "  <tbody>\n",
              "    <tr>\n",
              "      <th>0</th>\n",
              "      <td>10000001</td>\n",
              "      <td>บริษัท เมตามีเดีย เทคโนโลยี จำกัด</td>\n",
              "      <td>Metamedia Technology Co., Ltd.</td>\n",
              "      <td>98 อาคารสาทร สแควร์ ออฟฟิศ ทาวเวอร์ ชั้น 4 ห้อ...</td>\n",
              "      <td>Rm. 407, 4F, Sathorn Square Office Tower, 98 N...</td>\n",
              "      <td>13.722642</td>\n",
              "      <td>100.529316</td>\n",
              "      <td>+6621081790</td>\n",
              "      <td>http://www.mm.co.th</td>\n",
              "      <td>2020-04-17 02:12:58</td>\n",
              "      <td>building</td>\n",
              "      <td>pattara</td>\n",
              "    </tr>\n",
              "    <tr>\n",
              "      <th>1</th>\n",
              "      <td>10000003</td>\n",
              "      <td>ไทยอินโฟนิตี้</td>\n",
              "      <td>Thai Infonity</td>\n",
              "      <td>แขวงทุ่งสองห้อง เขตหลักสี่ กรุงเทพมหานคร 10210</td>\n",
              "      <td>Thung Song Hong, Lak Si, Bangkok, 10210</td>\n",
              "      <td>13.887970</td>\n",
              "      <td>100.575757</td>\n",
              "      <td>NaN</td>\n",
              "      <td>NaN</td>\n",
              "      <td>2020-01-08 22:28:11</td>\n",
              "      <td>NaN</td>\n",
              "      <td>pattara</td>\n",
              "    </tr>\n",
              "    <tr>\n",
              "      <th>2</th>\n",
              "      <td>10000007</td>\n",
              "      <td>ตลาดหลักทรัพย์แห่งประเทศไทย</td>\n",
              "      <td>The Stock Exchange of Thailand</td>\n",
              "      <td>ถนนรัชดาภิเษก แขวงคลองเตย เขตคลองเตย กรุงเทพม...</td>\n",
              "      <td>NaN</td>\n",
              "      <td>13.722620</td>\n",
              "      <td>100.559362</td>\n",
              "      <td>0-2229-2000 หรือ 0-2229-2222</td>\n",
              "      <td>http://www.set.or.th</td>\n",
              "      <td>2020-01-08 22:28:11</td>\n",
              "      <td>Shop / Other public location</td>\n",
              "      <td>pattara</td>\n",
              "    </tr>\n",
              "    <tr>\n",
              "      <th>3</th>\n",
              "      <td>10000008</td>\n",
              "      <td>ธนาบุตร</td>\n",
              "      <td>ธนาบุตร</td>\n",
              "      <td>บริษัท ธนาบุตร จำกัด</td>\n",
              "      <td>Rama 1 Rd., Wang Mai, Patumwan, Bangkok, 10400</td>\n",
              "      <td>13.746797</td>\n",
              "      <td>100.528862</td>\n",
              "      <td>NaN</td>\n",
              "      <td>http://www.tanabutr.co.th/</td>\n",
              "      <td>2020-01-08 22:28:11</td>\n",
              "      <td>building</td>\n",
              "      <td>pattara</td>\n",
              "    </tr>\n",
              "    <tr>\n",
              "      <th>4</th>\n",
              "      <td>10000009</td>\n",
              "      <td>คลินิกแพทย์หญิงเฟื่องเพชร</td>\n",
              "      <td>คลินิกแพทย์หญิงเฟื่องเพชร</td>\n",
              "      <td>486/130 ซอยเพชรบุรี 16 แขวงถนนเพชรบุรี เขตราชเ...</td>\n",
              "      <td>486/130 Soi Phetburi 16, Thanon Phet Buri, Rat...</td>\n",
              "      <td>13.752618</td>\n",
              "      <td>100.531037</td>\n",
              "      <td>+6622156159</td>\n",
              "      <td>NaN</td>\n",
              "      <td>2020-01-08 22:28:11</td>\n",
              "      <td>hospital, clinic, healthcare office</td>\n",
              "      <td>pattara</td>\n",
              "    </tr>\n",
              "  </tbody>\n",
              "</table>\n",
              "</div>"
            ],
            "text/plain": [
              "         id  ... username\n",
              "0  10000001  ...  pattara\n",
              "1  10000003  ...  pattara\n",
              "2  10000007  ...  pattara\n",
              "3  10000008  ...  pattara\n",
              "4  10000009  ...  pattara\n",
              "\n",
              "[5 rows x 12 columns]"
            ]
          },
          "metadata": {
            "tags": []
          },
          "execution_count": 58
        }
      ]
    },
    {
      "cell_type": "code",
      "metadata": {
        "id": "2ioefC3Rf69O",
        "colab_type": "code",
        "colab": {}
      },
      "source": [
        "province_list_dup = geo_file['ProvinceTH'].tolist()\n",
        "ampor_list_dup = geo_file['AmporTH'].tolist()\n",
        "tumbol_list_dup = geo_file['TumbolTH'].tolist()\n",
        "all_word_dup = province_list_dup + ampor_list_dup + tumbol_list_dup\n",
        "\n",
        "word_freq = {}\n",
        "for word in all_word_dup:\n",
        "  if word not in word_freq:\n",
        "      word_freq[word] = 0\n",
        "  word_freq[word] += 1"
      ],
      "execution_count": 62,
      "outputs": []
    },
    {
      "cell_type": "code",
      "metadata": {
        "id": "HXAGBnPlZmsF",
        "colab_type": "code",
        "colab": {
          "base_uri": "https://localhost:8080/",
          "height": 34
        },
        "outputId": "6d67ea6f-2505-4825-bcdf-5d4367423b78"
      },
      "source": [
        "province_list = geo_file['ProvinceTH'].unique().tolist()\n",
        "ampor_list = geo_file['AmporTH'].unique().tolist()\n",
        "tumbol_list = geo_file['TumbolTH'].unique().tolist()\n",
        "custom_list = [\"เจริญกรุง\"]\n",
        "all_word = province_list + ampor_list + tumbol_list + custom_list\n",
        "\n",
        "custom_dict_geo = set(thai_words())\n",
        "for word in all_word:\n",
        "  custom_dict_geo.add(word)\n",
        "\n",
        "custom_dict_trie = trie.dict_trie(dict_source=custom_dict_geo)\n",
        "\n",
        "test_text = \"ถนนพุทธมณฑลสาย 4 ศาลายา พุทธมณฑล จ.นครปฐม 73170\"\n",
        "\n",
        "geo_stopword = [\"ถนน\",\"ตำบล\",\"แขวง\",\"อำเภอ\",\"เขต\",\"จังหวัด\",\"ถ.\",\"ต.\",\"บ.\",\"จ.\",\"ประเทศ\"]\n",
        "\n",
        "token_test_text = word_tokenize(test_text, engine=\"newmm\", custom_dict=custom_dict_trie, keep_whitespace=False)\n",
        "for word in geo_stopword:\n",
        "  if word in token_test_text:\n",
        "    token_test_text.remove(word)\n",
        "\n",
        "print(token_test_text)"
      ],
      "execution_count": 70,
      "outputs": [
        {
          "output_type": "stream",
          "text": [
            "['พุทธมณฑล', 'สาย', '4', 'ศาลายา', 'พุทธมณฑล', 'นครปฐม', '73170']\n"
          ],
          "name": "stdout"
        }
      ]
    },
    {
      "cell_type": "code",
      "metadata": {
        "id": "jg3aTr4fexN4",
        "colab_type": "code",
        "colab": {}
      },
      "source": [
        "address_list = map_file['address_th'].tolist()\n",
        "\n",
        "for doc in address_list:\n",
        "  token_doc = word_tokenize(doc, engine=\"newmm\", custom_dict=custom_dict_trie, keep_whitespace=False)\n",
        "  for word in geo_stopword:\n",
        "    if word in token_doc:\n",
        "      token_doc.remove(word)\n",
        "      \n",
        "  for word in token_doc:\n",
        "    if word not in word_freq:\n",
        "        word_freq[word] = 0\n",
        "    word_freq[word] += 1\n"
      ],
      "execution_count": 72,
      "outputs": []
    },
    {
      "cell_type": "markdown",
      "metadata": {
        "id": "SUOqOQUamODe",
        "colab_type": "text"
      },
      "source": [
        ""
      ]
    },
    {
      "cell_type": "code",
      "metadata": {
        "id": "TcRtSHaqexTa",
        "colab_type": "code",
        "colab": {
          "base_uri": "https://localhost:8080/",
          "height": 217
        },
        "outputId": "8597bd64-cff7-495f-dadc-bb32e8ee922c"
      },
      "source": [
        "print(geo_dictlist[:20])\n",
        "print(word_freq[\"สุคนธสวัสดิ์\"])"
      ],
      "execution_count": 129,
      "outputs": [
        {
          "output_type": "stream",
          "text": [
            "[('กระบี่', 4075), ('กรุงเทพมหานคร', 71880), ('กาญจนบุรี', 5273), ('กาฬสินธุ์', 5899), ('กำแพงเพชร', 4658), ('ขอนแก่น', 13727), ('จันทบุรี', 4068), ('ฉะเชิงเทรา', 5410), ('ชลบุรี', 17181), ('ชัยนาท', 2759), ('ชัยภูมิ', 6834), ('ชุมพร', 3589), ('เชียงราย', 8377), ('เชียงใหม่', 17390), ('ตรัง', 4042), ('ตราด', 2985), ('ตาก', 3599), ('นครนายก', 2327), ('นครปฐม', 9715), ('นครพนม', 4293)]\n"
          ],
          "name": "stdout"
        },
        {
          "output_type": "error",
          "ename": "KeyError",
          "evalue": "ignored",
          "traceback": [
            "\u001b[0;31m---------------------------------------------------------------------------\u001b[0m",
            "\u001b[0;31mKeyError\u001b[0m                                  Traceback (most recent call last)",
            "\u001b[0;32m<ipython-input-129-2ec527ae4b25>\u001b[0m in \u001b[0;36m<module>\u001b[0;34m()\u001b[0m\n\u001b[1;32m      1\u001b[0m \u001b[0mprint\u001b[0m\u001b[0;34m(\u001b[0m\u001b[0mgeo_dictlist\u001b[0m\u001b[0;34m[\u001b[0m\u001b[0;34m:\u001b[0m\u001b[0;36m20\u001b[0m\u001b[0;34m]\u001b[0m\u001b[0;34m)\u001b[0m\u001b[0;34m\u001b[0m\u001b[0;34m\u001b[0m\u001b[0m\n\u001b[0;32m----> 2\u001b[0;31m \u001b[0mprint\u001b[0m\u001b[0;34m(\u001b[0m\u001b[0mword_freq\u001b[0m\u001b[0;34m[\u001b[0m\u001b[0;34m\"สุคนธสวัสดิ์\"\u001b[0m\u001b[0;34m]\u001b[0m\u001b[0;34m)\u001b[0m\u001b[0;34m\u001b[0m\u001b[0;34m\u001b[0m\u001b[0m\n\u001b[0m",
            "\u001b[0;31mKeyError\u001b[0m: 'สุคนธสวัสดิ์'"
          ]
        }
      ]
    },
    {
      "cell_type": "code",
      "metadata": {
        "id": "I3FCNd1kkEot",
        "colab_type": "code",
        "colab": {}
      },
      "source": [
        "geo_dictlist = []\n",
        "for key, value in word_freq.items():\n",
        "    temp = (key,value)\n",
        "    geo_dictlist.append(temp)"
      ],
      "execution_count": 84,
      "outputs": []
    },
    {
      "cell_type": "code",
      "metadata": {
        "id": "a6KoNbkxjs1S",
        "colab_type": "code",
        "colab": {
          "base_uri": "https://localhost:8080/",
          "height": 68
        },
        "outputId": "8d724bdf-e6f9-46be-c321-e7f41e629c62"
      },
      "source": [
        "geo_spell_checker = NorvigSpellChecker(custom_dict=geo_dictlist,min_freq=5)\n",
        "test_text = \"บางกรวย\"\n",
        "allword_prob = geo_spell_checker.spell(test_text)\n",
        "prob = geo_spell_checker.prob(test_text)\n",
        "predict_word = allword_prob[0]\n",
        "\n",
        "print(allword_prob)\n",
        "print(prob)\n",
        "print(predict_word)"
      ],
      "execution_count": 130,
      "outputs": [
        {
          "output_type": "stream",
          "text": [
            "['บางกรวย']\n",
            "0.0008694904367467588\n",
            "บางกรวย\n"
          ],
          "name": "stdout"
        }
      ]
    },
    {
      "cell_type": "code",
      "metadata": {
        "id": "Fgz8UE6cYFkw",
        "colab_type": "code",
        "colab": {
          "base_uri": "https://localhost:8080/",
          "height": 122
        },
        "outputId": "6987b285-307d-4bb4-c52e-d620971f2d38"
      },
      "source": [
        "from google.colab import drive\n",
        "drive.mount('/content/gdrive')"
      ],
      "execution_count": 20,
      "outputs": [
        {
          "output_type": "stream",
          "text": [
            "Go to this URL in a browser: https://accounts.google.com/o/oauth2/auth?client_id=947318989803-6bn6qk8qdgf4n4g3pfee6491hc0brc4i.apps.googleusercontent.com&redirect_uri=urn%3aietf%3awg%3aoauth%3a2.0%3aoob&response_type=code&scope=email%20https%3a%2f%2fwww.googleapis.com%2fauth%2fdocs.test%20https%3a%2f%2fwww.googleapis.com%2fauth%2fdrive%20https%3a%2f%2fwww.googleapis.com%2fauth%2fdrive.photos.readonly%20https%3a%2f%2fwww.googleapis.com%2fauth%2fpeopleapi.readonly\n",
            "\n",
            "Enter your authorization code:\n",
            "··········\n",
            "Mounted at /content/gdrive\n"
          ],
          "name": "stdout"
        }
      ]
    },
    {
      "cell_type": "code",
      "metadata": {
        "id": "uLF88rfeYQhP",
        "colab_type": "code",
        "colab": {
          "base_uri": "https://localhost:8080/",
          "height": 34
        },
        "outputId": "87ceecd0-8874-4ff2-c695-b55be854b138"
      },
      "source": [
        "!ls '/content/gdrive/My Drive/Colab Notebooks/raw_file/spell_checker'"
      ],
      "execution_count": 24,
      "outputs": [
        {
          "output_type": "stream",
          "text": [
            "geocode.csv  longdomap-poi-contributed-2020070921.csv\n"
          ],
          "name": "stdout"
        }
      ]
    },
    {
      "cell_type": "code",
      "metadata": {
        "id": "ibw1Jr6YYQ7b",
        "colab_type": "code",
        "colab": {}
      },
      "source": [
        "save_path = F\"/content/gdrive/My Drive/Colab Notebooks/raw_file/spell_checker/\" \n",
        "f = open(save_path+\"dict.csv\", \"a\")\n",
        "\n",
        "f.write(\"word\")\n",
        "for i in all_word:\n",
        "\n",
        "f.close()"
      ],
      "execution_count": null,
      "outputs": []
    }
  ]
}