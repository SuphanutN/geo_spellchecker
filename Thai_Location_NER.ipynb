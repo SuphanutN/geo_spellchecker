{
  "nbformat": 4,
  "nbformat_minor": 0,
  "metadata": {
    "colab": {
      "name": "Thai_Location_NER",
      "provenance": [],
      "collapsed_sections": [],
      "authorship_tag": "ABX9TyNGyTErB/4d66BHzo2q/VG3",
      "include_colab_link": true
    },
    "kernelspec": {
      "name": "python3",
      "display_name": "Python 3"
    }
  },
  "cells": [
    {
      "cell_type": "markdown",
      "metadata": {
        "id": "view-in-github",
        "colab_type": "text"
      },
      "source": [
        "<a href=\"https://colab.research.google.com/github/SuphanutN/geo_spellchecker/blob/master/Thai_Location_NER.ipynb\" target=\"_parent\"><img src=\"https://colab.research.google.com/assets/colab-badge.svg\" alt=\"Open In Colab\"/></a>"
      ]
    },
    {
      "cell_type": "code",
      "metadata": {
        "id": "oDYICIENnpWn",
        "colab_type": "code",
        "colab": {
          "base_uri": "https://localhost:8080/",
          "height": 595
        },
        "outputId": "042c1f82-4dc8-467f-ede1-48d4f13ab91f"
      },
      "source": [
        "!pip install pandas\n",
        "!pip install PyDrive\n",
        "!pip install pythainlp"
      ],
      "execution_count": 1,
      "outputs": [
        {
          "output_type": "stream",
          "text": [
            "Requirement already satisfied: pandas in /usr/local/lib/python3.6/dist-packages (1.0.5)\n",
            "Requirement already satisfied: numpy>=1.13.3 in /usr/local/lib/python3.6/dist-packages (from pandas) (1.18.5)\n",
            "Requirement already satisfied: pytz>=2017.2 in /usr/local/lib/python3.6/dist-packages (from pandas) (2018.9)\n",
            "Requirement already satisfied: python-dateutil>=2.6.1 in /usr/local/lib/python3.6/dist-packages (from pandas) (2.8.1)\n",
            "Requirement already satisfied: six>=1.5 in /usr/local/lib/python3.6/dist-packages (from python-dateutil>=2.6.1->pandas) (1.12.0)\n",
            "Requirement already satisfied: PyDrive in /usr/local/lib/python3.6/dist-packages (1.3.1)\n",
            "Requirement already satisfied: PyYAML>=3.0 in /usr/local/lib/python3.6/dist-packages (from PyDrive) (3.13)\n",
            "Requirement already satisfied: oauth2client>=4.0.0 in /usr/local/lib/python3.6/dist-packages (from PyDrive) (4.1.3)\n",
            "Requirement already satisfied: google-api-python-client>=1.2 in /usr/local/lib/python3.6/dist-packages (from PyDrive) (1.7.12)\n",
            "Requirement already satisfied: httplib2>=0.9.1 in /usr/local/lib/python3.6/dist-packages (from oauth2client>=4.0.0->PyDrive) (0.17.4)\n",
            "Requirement already satisfied: pyasn1-modules>=0.0.5 in /usr/local/lib/python3.6/dist-packages (from oauth2client>=4.0.0->PyDrive) (0.2.8)\n",
            "Requirement already satisfied: rsa>=3.1.4 in /usr/local/lib/python3.6/dist-packages (from oauth2client>=4.0.0->PyDrive) (4.6)\n",
            "Requirement already satisfied: six>=1.6.1 in /usr/local/lib/python3.6/dist-packages (from oauth2client>=4.0.0->PyDrive) (1.12.0)\n",
            "Requirement already satisfied: pyasn1>=0.1.7 in /usr/local/lib/python3.6/dist-packages (from oauth2client>=4.0.0->PyDrive) (0.4.8)\n",
            "Requirement already satisfied: google-auth>=1.4.1 in /usr/local/lib/python3.6/dist-packages (from google-api-python-client>=1.2->PyDrive) (1.17.2)\n",
            "Requirement already satisfied: uritemplate<4dev,>=3.0.0 in /usr/local/lib/python3.6/dist-packages (from google-api-python-client>=1.2->PyDrive) (3.0.1)\n",
            "Requirement already satisfied: google-auth-httplib2>=0.0.3 in /usr/local/lib/python3.6/dist-packages (from google-api-python-client>=1.2->PyDrive) (0.0.4)\n",
            "Requirement already satisfied: setuptools>=40.3.0 in /usr/local/lib/python3.6/dist-packages (from google-auth>=1.4.1->google-api-python-client>=1.2->PyDrive) (49.1.0)\n",
            "Requirement already satisfied: cachetools<5.0,>=2.0.0 in /usr/local/lib/python3.6/dist-packages (from google-auth>=1.4.1->google-api-python-client>=1.2->PyDrive) (4.1.1)\n",
            "Collecting pythainlp\n",
            "\u001b[?25l  Downloading https://files.pythonhosted.org/packages/1f/b1/3d8d1ff175fce699344bf23bc1cccd09d42d440f3ebf252cef5ab364d030/pythainlp-2.2.2-py3-none-any.whl (13.1MB)\n",
            "\u001b[K     |████████████████████████████████| 13.1MB 312kB/s \n",
            "\u001b[?25hCollecting tinydb>=3.0\n",
            "  Downloading https://files.pythonhosted.org/packages/b6/f6/b3e112addc8eb4a097f158124ce8b206767361a381f80c5f0c506d855e4a/tinydb-4.1.1-py3-none-any.whl\n",
            "Collecting python-crfsuite>=0.9.6\n",
            "\u001b[?25l  Downloading https://files.pythonhosted.org/packages/95/99/869dde6dbf3e0d07a013c8eebfb0a3d30776334e0097f8432b631a9a3a19/python_crfsuite-0.9.7-cp36-cp36m-manylinux1_x86_64.whl (743kB)\n",
            "\u001b[K     |████████████████████████████████| 747kB 41.7MB/s \n",
            "\u001b[?25hRequirement already satisfied: requests>=2.22.0 in /usr/local/lib/python3.6/dist-packages (from pythainlp) (2.23.0)\n",
            "Requirement already satisfied: urllib3!=1.25.0,!=1.25.1,<1.26,>=1.21.1 in /usr/local/lib/python3.6/dist-packages (from requests>=2.22.0->pythainlp) (1.24.3)\n",
            "Requirement already satisfied: idna<3,>=2.5 in /usr/local/lib/python3.6/dist-packages (from requests>=2.22.0->pythainlp) (2.10)\n",
            "Requirement already satisfied: chardet<4,>=3.0.2 in /usr/local/lib/python3.6/dist-packages (from requests>=2.22.0->pythainlp) (3.0.4)\n",
            "Requirement already satisfied: certifi>=2017.4.17 in /usr/local/lib/python3.6/dist-packages (from requests>=2.22.0->pythainlp) (2020.6.20)\n",
            "Installing collected packages: tinydb, python-crfsuite, pythainlp\n",
            "Successfully installed pythainlp-2.2.2 python-crfsuite-0.9.7 tinydb-4.1.1\n"
          ],
          "name": "stdout"
        }
      ]
    },
    {
      "cell_type": "code",
      "metadata": {
        "id": "AxL-W4wHn72O",
        "colab_type": "code",
        "colab": {}
      },
      "source": [
        "import pandas as pd\n",
        "\n",
        "import pythainlp\n",
        "\n",
        "from pythainlp.corpus.common import thai_words\n",
        "from pythainlp.tokenize import word_tokenize, DEFAULT_WORD_DICT_TRIE\n",
        "from pythainlp.util import trie\n",
        "\n",
        "from pythainlp import spell\n",
        "from pythainlp.spell import NorvigSpellChecker\n",
        "\n",
        "import pickle\n",
        "\n",
        "from pydrive.auth import GoogleAuth\n",
        "from pydrive.drive import GoogleDrive\n",
        "from google.colab import auth\n",
        "from oauth2client.client import GoogleCredentials"
      ],
      "execution_count": 2,
      "outputs": []
    },
    {
      "cell_type": "code",
      "metadata": {
        "id": "B1RkRHT163HW",
        "colab_type": "code",
        "colab": {}
      },
      "source": [
        "auth.authenticate_user()\n",
        "gauth = GoogleAuth()\n",
        "gauth.credentials = GoogleCredentials.get_application_default()\n",
        "drive = GoogleDrive(gauth)\n",
        "\n",
        "downloaded = drive.CreateFile({'id':\"1rW9WWcYz0025dLHGFsh70K5QJ0SwsTB4\"}) \n",
        "downloaded.GetContentFile('geocode.csv')\n",
        "downloaded2 = drive.CreateFile({'id':\"1d5NDfuaBlCAyEzMWhcvpjMSmIpr2Sz8y\"}) \n",
        "downloaded2.GetContentFile('longdomap-poi-contributed-2020070921.csv')\n",
        "\n",
        "geo_file = pd.read_csv('geocode.csv')\n",
        "map_file = pd.read_csv('longdomap-poi-contributed-2020070921.csv')"
      ],
      "execution_count": 3,
      "outputs": []
    },
    {
      "cell_type": "code",
      "metadata": {
        "id": "tpAAuJH58Qm7",
        "colab_type": "code",
        "colab": {}
      },
      "source": [
        "province_list = geo_file['ProvinceTH'].unique().tolist()\n",
        "ampor_list = geo_file['AmporTH'].unique().tolist()\n",
        "tumbol_list = geo_file['TumbolTH'].unique().tolist()"
      ],
      "execution_count": 13,
      "outputs": []
    },
    {
      "cell_type": "code",
      "metadata": {
        "id": "NPY3teBc66xj",
        "colab_type": "code",
        "colab": {
          "base_uri": "https://localhost:8080/",
          "height": 289
        },
        "outputId": "7e73e131-0c2f-496f-8100-5121524bc553"
      },
      "source": [
        "map_file.head()"
      ],
      "execution_count": 4,
      "outputs": [
        {
          "output_type": "execute_result",
          "data": {
            "text/html": [
              "<div>\n",
              "<style scoped>\n",
              "    .dataframe tbody tr th:only-of-type {\n",
              "        vertical-align: middle;\n",
              "    }\n",
              "\n",
              "    .dataframe tbody tr th {\n",
              "        vertical-align: top;\n",
              "    }\n",
              "\n",
              "    .dataframe thead th {\n",
              "        text-align: right;\n",
              "    }\n",
              "</style>\n",
              "<table border=\"1\" class=\"dataframe\">\n",
              "  <thead>\n",
              "    <tr style=\"text-align: right;\">\n",
              "      <th></th>\n",
              "      <th>id</th>\n",
              "      <th>name_th</th>\n",
              "      <th>name_en</th>\n",
              "      <th>address_th</th>\n",
              "      <th>address_en</th>\n",
              "      <th>latitude</th>\n",
              "      <th>longitude</th>\n",
              "      <th>telephone</th>\n",
              "      <th>website</th>\n",
              "      <th>lastupdate</th>\n",
              "      <th>poi_type</th>\n",
              "      <th>username</th>\n",
              "    </tr>\n",
              "  </thead>\n",
              "  <tbody>\n",
              "    <tr>\n",
              "      <th>0</th>\n",
              "      <td>10000001</td>\n",
              "      <td>บริษัท เมตามีเดีย เทคโนโลยี จำกัด</td>\n",
              "      <td>Metamedia Technology Co., Ltd.</td>\n",
              "      <td>98 อาคารสาทร สแควร์ ออฟฟิศ ทาวเวอร์ ชั้น 4 ห้อ...</td>\n",
              "      <td>Rm. 407, 4F, Sathorn Square Office Tower, 98 N...</td>\n",
              "      <td>13.722642</td>\n",
              "      <td>100.529316</td>\n",
              "      <td>+6621081790</td>\n",
              "      <td>http://www.mm.co.th</td>\n",
              "      <td>2020-04-17 02:12:58</td>\n",
              "      <td>building</td>\n",
              "      <td>pattara</td>\n",
              "    </tr>\n",
              "    <tr>\n",
              "      <th>1</th>\n",
              "      <td>10000003</td>\n",
              "      <td>ไทยอินโฟนิตี้</td>\n",
              "      <td>Thai Infonity</td>\n",
              "      <td>แขวงทุ่งสองห้อง เขตหลักสี่ กรุงเทพมหานคร 10210</td>\n",
              "      <td>Thung Song Hong, Lak Si, Bangkok, 10210</td>\n",
              "      <td>13.887970</td>\n",
              "      <td>100.575757</td>\n",
              "      <td>NaN</td>\n",
              "      <td>NaN</td>\n",
              "      <td>2020-01-08 22:28:11</td>\n",
              "      <td>NaN</td>\n",
              "      <td>pattara</td>\n",
              "    </tr>\n",
              "    <tr>\n",
              "      <th>2</th>\n",
              "      <td>10000007</td>\n",
              "      <td>ตลาดหลักทรัพย์แห่งประเทศไทย</td>\n",
              "      <td>The Stock Exchange of Thailand</td>\n",
              "      <td>ถนนรัชดาภิเษก แขวงคลองเตย เขตคลองเตย กรุงเทพม...</td>\n",
              "      <td>NaN</td>\n",
              "      <td>13.722620</td>\n",
              "      <td>100.559362</td>\n",
              "      <td>0-2229-2000 หรือ 0-2229-2222</td>\n",
              "      <td>http://www.set.or.th</td>\n",
              "      <td>2020-01-08 22:28:11</td>\n",
              "      <td>Shop / Other public location</td>\n",
              "      <td>pattara</td>\n",
              "    </tr>\n",
              "    <tr>\n",
              "      <th>3</th>\n",
              "      <td>10000008</td>\n",
              "      <td>ธนาบุตร</td>\n",
              "      <td>ธนาบุตร</td>\n",
              "      <td>บริษัท ธนาบุตร จำกัด</td>\n",
              "      <td>Rama 1 Rd., Wang Mai, Patumwan, Bangkok, 10400</td>\n",
              "      <td>13.746797</td>\n",
              "      <td>100.528862</td>\n",
              "      <td>NaN</td>\n",
              "      <td>http://www.tanabutr.co.th/</td>\n",
              "      <td>2020-01-08 22:28:11</td>\n",
              "      <td>building</td>\n",
              "      <td>pattara</td>\n",
              "    </tr>\n",
              "    <tr>\n",
              "      <th>4</th>\n",
              "      <td>10000009</td>\n",
              "      <td>คลินิกแพทย์หญิงเฟื่องเพชร</td>\n",
              "      <td>คลินิกแพทย์หญิงเฟื่องเพชร</td>\n",
              "      <td>486/130 ซอยเพชรบุรี 16 แขวงถนนเพชรบุรี เขตราชเ...</td>\n",
              "      <td>486/130 Soi Phetburi 16, Thanon Phet Buri, Rat...</td>\n",
              "      <td>13.752618</td>\n",
              "      <td>100.531037</td>\n",
              "      <td>+6622156159</td>\n",
              "      <td>NaN</td>\n",
              "      <td>2020-01-08 22:28:11</td>\n",
              "      <td>hospital, clinic, healthcare office</td>\n",
              "      <td>pattara</td>\n",
              "    </tr>\n",
              "  </tbody>\n",
              "</table>\n",
              "</div>"
            ],
            "text/plain": [
              "         id  ... username\n",
              "0  10000001  ...  pattara\n",
              "1  10000003  ...  pattara\n",
              "2  10000007  ...  pattara\n",
              "3  10000008  ...  pattara\n",
              "4  10000009  ...  pattara\n",
              "\n",
              "[5 rows x 12 columns]"
            ]
          },
          "metadata": {
            "tags": []
          },
          "execution_count": 4
        }
      ]
    },
    {
      "cell_type": "code",
      "metadata": {
        "id": "rN6fh42v7CYB",
        "colab_type": "code",
        "colab": {
          "base_uri": "https://localhost:8080/",
          "height": 153
        },
        "outputId": "25969017-fd06-42f2-a2b6-be02b34688bc"
      },
      "source": [
        "test_text = \"31/33 ถ.อำมาตย์ ต.ในเมือง เมือง ขอนแก่น 40000\"\n",
        "\n",
        "geo_stopword = [\"ถนน\",\"ตำบล\",\"แขวง\",\"อำเภอ\",\"เขต\",\"จังหวัด\",\"ถ.\",\"ต.\",\"อ.\",\"จ.\",\"ประเทศ\"]\n",
        "province_remove_word = [\"จ.\",\"จังหวัด\"]\n",
        "ampor_remove_word = [\"อ.\",\"อำเภอ\",\"เขต\"]\n",
        "tumbol_remove_word = [\"ต.\",\"ตำบล\",\"แขวง\"]\n",
        "\n",
        "text_seg = test_text.split(\" \")\n",
        "len_text = len(text_seg)\n",
        "\n",
        "if len(text_seg) >= 5:\n",
        "  valid = [0,0,0,0]\n",
        "  zip_code = text_seg[len_text-1]\n",
        "  if (len(zip_code) == 5):\n",
        "    valid[0] = 1\n",
        "\n",
        "  province = text_seg[len_text-2]\n",
        "  for word in province_remove_word:\n",
        "    if word in province:\n",
        "      province = province.replace(word, '')\n",
        "  if province in province_list:\n",
        "    valid[1] = 1\n",
        "\n",
        "  ampor = text_seg[len_text-3]\n",
        "  for word in ampor_remove_word:\n",
        "    if word in ampor:\n",
        "      ampor = ampor.replace(word, '')\n",
        "  if ampor in ampor_list:\n",
        "    valid[2] = 1\n",
        "\n",
        "  tumbol = text_seg[len_text-4]\n",
        "  for word in tumbol_remove_word:\n",
        "    if word in tumbol:\n",
        "      tumbol = tumbol.replace(word, '')\n",
        "    print(tumbol)\n",
        "  if tumbol in tumbol_list:\n",
        "    valid[3] = 1\n",
        "\n",
        "else:\n",
        "  print(\"wrong input format\")\n",
        "\n",
        "print(text_seg)\n",
        "print(len_text)\n",
        "print(province)\n",
        "print(len(zip_code))\n",
        "print(valid)"
      ],
      "execution_count": 25,
      "outputs": [
        {
          "output_type": "stream",
          "text": [
            "ในเมือง\n",
            "ในเมือง\n",
            "ในเมือง\n",
            "['31/33', 'ถ.อำมาตย์', 'ต.ในเมือง', 'เมือง', 'ขอนแก่น', '40000']\n",
            "6\n",
            "ขอนแก่น\n",
            "5\n",
            "[1, 1, 0, 1]\n"
          ],
          "name": "stdout"
        }
      ]
    },
    {
      "cell_type": "code",
      "metadata": {
        "id": "PIJhkzqm7LEs",
        "colab_type": "code",
        "colab": {}
      },
      "source": [
        "address_list = map_file['address_th'].tolist()"
      ],
      "execution_count": 7,
      "outputs": []
    },
    {
      "cell_type": "code",
      "metadata": {
        "id": "6QMSL4E47ZF3",
        "colab_type": "code",
        "colab": {}
      },
      "source": [
        ""
      ],
      "execution_count": null,
      "outputs": []
    }
  ]
}